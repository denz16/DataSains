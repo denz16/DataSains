{
 "cells": [
  {
   "cell_type": "code",
   "execution_count": null,
   "id": "a5b01e2e",
   "metadata": {},
   "outputs": [],
   "source": [
    "#STUDI KASUS:\n",
    "#Buatlah 5 baris tabel dengan kolom nomor, nama, usia, berat badan dan tanggal. Kolom nomor dan tanggal default, kolom nama, \n",
    "#usia dan berat badan diisi urut antara 20kg-60kg.\n",
    "#Tipe data yang digunakan adalah int untuk nomor dan usia, string untuk nama, date untuk tanggal serta float untuk berat badan.  \n",
    "#Lakukan seleksi column untuk menampilkan column dengan tipe data Float, lalu tampilkan pernyataan True untuk berat badan dibawah 50, \n",
    "#dan false untuk berat badan diatas 50kg.\n",
    "\n",
    "#CLUE: Buat tabel terlebih dahulu, ubah tipe datanya, lalu lakukan seleksi column dengan memanfaatkan fungsi not dalam isin."
   ]
  },
  {
   "cell_type": "code",
   "execution_count": 11,
   "id": "82e9653e",
   "metadata": {},
   "outputs": [],
   "source": [
    "import numpy as np\n",
    "import pandas as pd"
   ]
  },
  {
   "cell_type": "code",
   "execution_count": 65,
   "id": "76138d5e",
   "metadata": {},
   "outputs": [
    {
     "data": {
      "text/html": [
       "<div>\n",
       "<style scoped>\n",
       "    .dataframe tbody tr th:only-of-type {\n",
       "        vertical-align: middle;\n",
       "    }\n",
       "\n",
       "    .dataframe tbody tr th {\n",
       "        vertical-align: top;\n",
       "    }\n",
       "\n",
       "    .dataframe thead th {\n",
       "        text-align: right;\n",
       "    }\n",
       "</style>\n",
       "<table border=\"1\" class=\"dataframe\">\n",
       "  <thead>\n",
       "    <tr style=\"text-align: right;\">\n",
       "      <th></th>\n",
       "      <th>Berat Badan</th>\n",
       "      <th>Usia</th>\n",
       "      <th>Nama</th>\n",
       "      <th>index</th>\n",
       "    </tr>\n",
       "  </thead>\n",
       "  <tbody>\n",
       "    <tr>\n",
       "      <th>0</th>\n",
       "      <td>46</td>\n",
       "      <td>21</td>\n",
       "      <td>Devi</td>\n",
       "      <td>2000-01-01 00:00:00</td>\n",
       "    </tr>\n",
       "    <tr>\n",
       "      <th>1</th>\n",
       "      <td>45</td>\n",
       "      <td>19</td>\n",
       "      <td>Diana</td>\n",
       "      <td>2000-01-01 01:00:00</td>\n",
       "    </tr>\n",
       "    <tr>\n",
       "      <th>2</th>\n",
       "      <td>50</td>\n",
       "      <td>23</td>\n",
       "      <td>Dina</td>\n",
       "      <td>2000-01-01 02:00:00</td>\n",
       "    </tr>\n",
       "    <tr>\n",
       "      <th>3</th>\n",
       "      <td>48</td>\n",
       "      <td>16</td>\n",
       "      <td>Dinda</td>\n",
       "      <td>2000-01-01 03:00:00</td>\n",
       "    </tr>\n",
       "    <tr>\n",
       "      <th>4</th>\n",
       "      <td>50</td>\n",
       "      <td>22</td>\n",
       "      <td>Difa</td>\n",
       "      <td>2000-01-01 04:00:00</td>\n",
       "    </tr>\n",
       "  </tbody>\n",
       "</table>\n",
       "</div>"
      ],
      "text/plain": [
       "  Berat Badan Usia   Nama               index\n",
       "0          46   21   Devi 2000-01-01 00:00:00\n",
       "1          45   19  Diana 2000-01-01 01:00:00\n",
       "2          50   23   Dina 2000-01-01 02:00:00\n",
       "3          48   16  Dinda 2000-01-01 03:00:00\n",
       "4          50   22   Difa 2000-01-01 04:00:00"
      ]
     },
     "execution_count": 65,
     "metadata": {},
     "output_type": "execute_result"
    }
   ],
   "source": [
    "data = {'Nama': ['Devi','Diana','Dina', 'Dinda', 'Difa'],\n",
    "        'Usia': ['21','19','23', '16', '22'], \n",
    "        'Berat Badan': ['46','45','50', '48', '50'],}\n",
    "        \n",
    "df_sk = pd.DataFrame(data)\n",
    "\n",
    "df_sk.index = pd.util.testing.makeDateIndex(n_rows, freq='H')\n",
    "df = df_sk.reset_index ()\n",
    "df.loc[:, ::-1]"
   ]
  },
  {
   "cell_type": "code",
   "execution_count": 61,
   "id": "aedc339f",
   "metadata": {},
   "outputs": [
    {
     "data": {
      "text/plain": [
       "Nama           object\n",
       "Usia           object\n",
       "Berat Badan    object\n",
       "dtype: object"
      ]
     },
     "execution_count": 61,
     "metadata": {},
     "output_type": "execute_result"
    }
   ],
   "source": [
    "df_sk.dtypes"
   ]
  },
  {
   "cell_type": "code",
   "execution_count": 70,
   "id": "df66497e",
   "metadata": {},
   "outputs": [
    {
     "data": {
      "text/html": [
       "<div>\n",
       "<style scoped>\n",
       "    .dataframe tbody tr th:only-of-type {\n",
       "        vertical-align: middle;\n",
       "    }\n",
       "\n",
       "    .dataframe tbody tr th {\n",
       "        vertical-align: top;\n",
       "    }\n",
       "\n",
       "    .dataframe thead th {\n",
       "        text-align: right;\n",
       "    }\n",
       "</style>\n",
       "<table border=\"1\" class=\"dataframe\">\n",
       "  <thead>\n",
       "    <tr style=\"text-align: right;\">\n",
       "      <th></th>\n",
       "      <th>Berat Badan</th>\n",
       "      <th>Usia</th>\n",
       "      <th>Nama</th>\n",
       "      <th>index</th>\n",
       "    </tr>\n",
       "  </thead>\n",
       "  <tbody>\n",
       "    <tr>\n",
       "      <th>0</th>\n",
       "      <td>46</td>\n",
       "      <td>21</td>\n",
       "      <td>Devi</td>\n",
       "      <td>2000-01-01 00:00:00</td>\n",
       "    </tr>\n",
       "    <tr>\n",
       "      <th>1</th>\n",
       "      <td>45</td>\n",
       "      <td>19</td>\n",
       "      <td>Diana</td>\n",
       "      <td>2000-01-01 01:00:00</td>\n",
       "    </tr>\n",
       "    <tr>\n",
       "      <th>2</th>\n",
       "      <td>50</td>\n",
       "      <td>23</td>\n",
       "      <td>Dina</td>\n",
       "      <td>2000-01-01 02:00:00</td>\n",
       "    </tr>\n",
       "    <tr>\n",
       "      <th>3</th>\n",
       "      <td>48</td>\n",
       "      <td>16</td>\n",
       "      <td>Dinda</td>\n",
       "      <td>2000-01-01 03:00:00</td>\n",
       "    </tr>\n",
       "    <tr>\n",
       "      <th>4</th>\n",
       "      <td>50</td>\n",
       "      <td>22</td>\n",
       "      <td>Difa</td>\n",
       "      <td>2000-01-01 04:00:00</td>\n",
       "    </tr>\n",
       "  </tbody>\n",
       "</table>\n",
       "</div>"
      ],
      "text/plain": [
       "  Berat Badan Usia   Nama               index\n",
       "0          46   21   Devi 2000-01-01 00:00:00\n",
       "1          45   19  Diana 2000-01-01 01:00:00\n",
       "2          50   23   Dina 2000-01-01 02:00:00\n",
       "3          48   16  Dinda 2000-01-01 03:00:00\n",
       "4          50   22   Difa 2000-01-01 04:00:00"
      ]
     },
     "execution_count": 70,
     "metadata": {},
     "output_type": "execute_result"
    }
   ],
   "source": [
    "df_sk = df_sk.astype({'Usia': 'int', 'Berat Badan': 'int'})\n",
    "df.loc[:, ::-1]"
   ]
  },
  {
   "cell_type": "code",
   "execution_count": 71,
   "id": "f0973d40",
   "metadata": {},
   "outputs": [
    {
     "data": {
      "text/plain": [
       "Nama           object\n",
       "Usia            int32\n",
       "Berat Badan     int32\n",
       "dtype: object"
      ]
     },
     "execution_count": 71,
     "metadata": {},
     "output_type": "execute_result"
    }
   ],
   "source": [
    "df_sk.dtypes"
   ]
  },
  {
   "cell_type": "code",
   "execution_count": 79,
   "id": "424e4c42",
   "metadata": {},
   "outputs": [
    {
     "data": {
      "text/html": [
       "<div>\n",
       "<style scoped>\n",
       "    .dataframe tbody tr th:only-of-type {\n",
       "        vertical-align: middle;\n",
       "    }\n",
       "\n",
       "    .dataframe tbody tr th {\n",
       "        vertical-align: top;\n",
       "    }\n",
       "\n",
       "    .dataframe thead th {\n",
       "        text-align: right;\n",
       "    }\n",
       "</style>\n",
       "<table border=\"1\" class=\"dataframe\">\n",
       "  <thead>\n",
       "    <tr style=\"text-align: right;\">\n",
       "      <th></th>\n",
       "      <th>Berat Badan</th>\n",
       "      <th>Usia</th>\n",
       "      <th>Nama</th>\n",
       "      <th>index</th>\n",
       "    </tr>\n",
       "  </thead>\n",
       "  <tbody>\n",
       "    <tr>\n",
       "      <th>0</th>\n",
       "      <td>46</td>\n",
       "      <td>21</td>\n",
       "      <td>Devi</td>\n",
       "      <td>2000-01-01 00:00:00</td>\n",
       "    </tr>\n",
       "    <tr>\n",
       "      <th>1</th>\n",
       "      <td>45</td>\n",
       "      <td>19</td>\n",
       "      <td>Diana</td>\n",
       "      <td>2000-01-01 01:00:00</td>\n",
       "    </tr>\n",
       "    <tr>\n",
       "      <th>2</th>\n",
       "      <td>50</td>\n",
       "      <td>23</td>\n",
       "      <td>Dina</td>\n",
       "      <td>2000-01-01 02:00:00</td>\n",
       "    </tr>\n",
       "    <tr>\n",
       "      <th>3</th>\n",
       "      <td>48</td>\n",
       "      <td>16</td>\n",
       "      <td>Dinda</td>\n",
       "      <td>2000-01-01 03:00:00</td>\n",
       "    </tr>\n",
       "    <tr>\n",
       "      <th>4</th>\n",
       "      <td>50</td>\n",
       "      <td>22</td>\n",
       "      <td>Difa</td>\n",
       "      <td>2000-01-01 04:00:00</td>\n",
       "    </tr>\n",
       "  </tbody>\n",
       "</table>\n",
       "</div>"
      ],
      "text/plain": [
       "  Berat Badan Usia   Nama               index\n",
       "0          46   21   Devi 2000-01-01 00:00:00\n",
       "1          45   19  Diana 2000-01-01 01:00:00\n",
       "2          50   23   Dina 2000-01-01 02:00:00\n",
       "3          48   16  Dinda 2000-01-01 03:00:00\n",
       "4          50   22   Difa 2000-01-01 04:00:00"
      ]
     },
     "execution_count": 79,
     "metadata": {},
     "output_type": "execute_result"
    }
   ],
   "source": [
    "df_sk[~df_sk['Berat Badan'].isin([50])]\n",
    "df.loc[:, ::-1]"
   ]
  },
  {
   "cell_type": "code",
   "execution_count": null,
   "id": "dd3723d1",
   "metadata": {},
   "outputs": [],
   "source": []
  }
 ],
 "metadata": {
  "kernelspec": {
   "display_name": "Python 3 (ipykernel)",
   "language": "python",
   "name": "python3"
  },
  "language_info": {
   "codemirror_mode": {
    "name": "ipython",
    "version": 3
   },
   "file_extension": ".py",
   "mimetype": "text/x-python",
   "name": "python",
   "nbconvert_exporter": "python",
   "pygments_lexer": "ipython3",
   "version": "3.9.12"
  }
 },
 "nbformat": 4,
 "nbformat_minor": 5
}
